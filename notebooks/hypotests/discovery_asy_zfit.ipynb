{
 "cells": [
  {
   "cell_type": "markdown",
   "metadata": {
    "pycharm": {
     "name": "#%% md\n"
    }
   },
   "source": [
    "# Discovery test example"
   ]
  },
  {
   "cell_type": "markdown",
   "metadata": {},
   "source": [
    "pip install optree zfit asdf"
   ]
  },
  {
   "cell_type": "code",
   "execution_count": null,
   "metadata": {
    "pycharm": {
     "name": "#%%\n"
    }
   },
   "outputs": [],
   "source": [
    "from __future__ import annotations\n",
    "\n",
    "import matplotlib.pyplot as plt\n",
    "import numpy as np\n",
    "import zfit\n",
    "from utils import plotfitresult, pltdist # , plotasimov\n",
    "from zfit.loss import ExtendedUnbinnedNLL\n",
    "from zfit.minimize import Minuit\n",
    "\n",
    "import os\n",
    "os.chdir(\"/home/cms-jovyan/hepstats/hepstats/src\")\n",
    "\n",
    "# from hepstats.hypotests import Discovery\n",
    "from hepstats.hypotests.calculators import AsymptoticCalculator\n",
    "# from hepstats.hypotests.parameters import POI, ParameterValue\n",
    "from hepstats.hypotests import discovery\n",
    "from hepstats.utils import minimizers, api\n",
    "\n",
    "os.chdir(\"/home/cms-jovyan/hepstats/hepstats/notebooks/hypotests\")\n",
    "print(os.listdir())"
   ]
  },
  {
   "cell_type": "code",
   "execution_count": null,
   "metadata": {
    "pycharm": {
     "name": "#%%\n"
    }
   },
   "outputs": [],
   "source": [
    "plt.rcParams[\"figure.figsize\"] = (8, 6)\n",
    "plt.rcParams[\"font.size\"] = 16"
   ]
  },
  {
   "cell_type": "markdown",
   "metadata": {
    "pycharm": {
     "name": "#%% md\n"
    }
   },
   "source": [
    "### Fit of a Gaussian signal over an exponential background:"
   ]
  },
  {
   "cell_type": "code",
   "execution_count": null,
   "metadata": {
    "pycharm": {
     "name": "#%%\n"
    }
   },
   "outputs": [],
   "source": [
    "bounds = (0.1, 3.0)\n",
    "\n",
    "# Data and signal\n",
    "stat_multiplier = 2\n",
    "\n",
    "np.random.seed(0)\n",
    "tau = -2.0\n",
    "beta = -1 / tau\n",
    "data = np.random.exponential(beta, 300 * stat_multiplier)\n",
    "peak = np.random.normal(1.2, 0.1, 25 * stat_multiplier)\n",
    "data = np.concatenate((data, peak))\n",
    "data = data[(data > bounds[0]) & (data < bounds[1])]"
   ]
  },
  {
   "cell_type": "code",
   "execution_count": null,
   "metadata": {
    "pycharm": {
     "name": "#%%\n"
    }
   },
   "outputs": [],
   "source": [
    "pltdist(data, bins=80, bounds=bounds)"
   ]
  },
  {
   "cell_type": "code",
   "execution_count": null,
   "metadata": {
    "pycharm": {
     "name": "#%%\n"
    }
   },
   "outputs": [],
   "source": [
    "obs = zfit.Space(\"x\", limits=bounds)"
   ]
  },
  {
   "cell_type": "code",
   "execution_count": null,
   "metadata": {
    "pycharm": {
     "name": "#%%\n"
    }
   },
   "outputs": [],
   "source": [
    "zfit_lambda = zfit.Parameter(\"lambda\", -2.0, -4.0, -1.0)\n",
    "zfit_Nsig = zfit.Parameter(\"Nsig\", 20.0, -20.0, len(data))\n",
    "zfit_Nbkg = zfit.Parameter(\"Nbkg\", len(data), 0.0, len(data) * 1.1)\n",
    "\n",
    "signal = zfit.pdf.Gauss(obs=obs, mu=1.2, sigma=0.1).create_extended(zfit_Nsig)\n",
    "background = zfit.pdf.Exponential(obs=obs, lambda_=zfit_lambda).create_extended(zfit_Nbkg)\n",
    "tot_model = zfit.pdf.SumPDF([signal, background])\n",
    "\n"
   ]
  },
  {
   "cell_type": "code",
   "execution_count": null,
   "metadata": {
    "pycharm": {
     "name": "#%%\n"
    }
   },
   "outputs": [],
   "source": [
    "# Create the negative log likelihood\n",
    "data_ = zfit.data.Data.from_numpy(obs=obs, array=data)\n",
    "zfit_nll = ExtendedUnbinnedNLL(model=[tot_model], data=[data_])"
   ]
  },
  {
   "cell_type": "code",
   "execution_count": null,
   "metadata": {},
   "outputs": [],
   "source": [
    "class ParamWrapper:\n",
    "    def __init__(self, zfit_param):\n",
    "        self.value = float(zfit_param.value())\n",
    "        self.floating = zfit_param.floating\n",
    "        self.upper = float(zfit_param.upper)\n",
    "        self.lower = float(zfit_param.lower)\n",
    "\n",
    "Nsig = ParamWrapper(zfit_Nsig)\n",
    "Nbkg = ParamWrapper(zfit_Nbkg)\n",
    "lambda_ = ParamWrapper(zfit_lambda)\n",
    "\n",
    "from typing import NamedTuple\n",
    "class CustomParameter(NamedTuple):\n",
    "    value : ArrayLike\n",
    "    floating : ArrayLike\n",
    "    upper : ArrayLike\n",
    "    lower : ArrayLike\n",
    "    \n",
    "bkg = CustomParameter(\n",
    "    value = np.array([Nbkg.value, lambda_.value]),\n",
    "    floating = True,\n",
    "    upper = np.array([Nbkg.upper, lambda_.upper]),\n",
    "    lower = np.array([Nbkg.lower, lambda_.lower])\n",
    ")\n",
    "\n",
    "class LossWrapper:\n",
    "    def __init__(self, zfit_loss):\n",
    "        self.zfit_loss = zfit_loss\n",
    "\n",
    "    def __call__(self, params):\n",
    "        # return self.zfit_loss([params[\"Nsig\"], params[\"Nbkg\"], params[\"lambda\"]])\n",
    "        return self.zfit_loss([params[\"signal\"], params[\"background\"][0], params[\"background\"][1]])\n",
    "\n",
    "nll = LossWrapper(zfit_nll)"
   ]
  },
  {
   "cell_type": "code",
   "execution_count": null,
   "metadata": {},
   "outputs": [],
   "source": [
    "# params = {\"Nsig\" : Nsig, \"Nbkg\" : Nbkg, \"lambda\" : lambda_}\n",
    "params = {\"signal\" : Nsig, \"background\" : bkg}"
   ]
  },
  {
   "cell_type": "markdown",
   "metadata": {},
   "source": [
    "Instantiate zfit minimizer and fit with all parameters floating"
   ]
  },
  {
   "cell_type": "code",
   "execution_count": null,
   "metadata": {},
   "outputs": [],
   "source": [
    "if False:\n",
    "    Nsig.value = 0\n",
    "    Nsig.floating = False"
   ]
  },
  {
   "cell_type": "code",
   "execution_count": null,
   "metadata": {},
   "outputs": [],
   "source": [
    "# nll.get_param_specs()\n",
    "\n",
    "\n",
    "zfit_minimizer = minimizers.IMinuit()\n",
    "zfit_minimum = zfit_minimizer.minimize(nll, params)\n",
    "zfit_minimum"
   ]
  },
  {
   "cell_type": "code",
   "execution_count": null,
   "metadata": {
    "pycharm": {
     "name": "#%%\n"
    }
   },
   "outputs": [],
   "source": [
    "min_values = zfit_minimum.params\n",
    "\n",
    "# for param, v in zip(zfit_nll.get_params(), [min_values[\"Nsig\"], min_values[\"Nbkg\"], min_values[\"lambda\"]]):\n",
    "#     param.set_value(v)\n",
    "\n",
    "for param, v in zip(zfit_nll.get_params(), [min_values[\"signal\"], min_values[\"background\"][0], min_values[\"background\"][1]]):\n",
    "    param.set_value(v)\n",
    "\n",
    "nbins = 80\n",
    "pltdist(data, nbins, bounds)\n",
    "plotfitresult(tot_model, bounds, nbins)\n",
    "# plotasimov(tot_model, bounds, nbins)\n",
    "# signal = zfit.pdf.Gauss(obs=obs, mu=1.2, sigma=0.1).create_extended(Nsig)\n",
    "# background = zfit.pdf.Exponential(obs=obs, lambda_=lambda_).create_extended(Nbkg)\n",
    "# tot_model = zfit.pdf.SumPDF([signal, background])\n",
    "\n",
    "# bin_width = (bounds[1] - bounds[0]) / nbins\n",
    "# tot_model_func = lambda x, Nsig, Nbkg, lamb: (Nsig / (0.1 * np.sqrt(2 * np.pi))) * np.exp(-(x - 1.2)**2 / (2 * 0.1**2)) - Nbkg * lamb * np.exp(lamb * x)\n",
    "# xsample = np.linspace(*bounds, 100)\n",
    "\n",
    "# plotting_params = [x[\"value\"] for x in minimum.params.values()]\n",
    "# zfit_plotting_params = [x[\"value\"] for x in zfit_minimum.params.values()]\n",
    "# plt.plot(xsample, tot_model_func(xsample, *plotting_params) * bin_width, color=\"orange\", label=\"scipy backend\")\n",
    "# plt.plot(xsample, tot_model_func(xsample, *zfit_minimum.param_values) * bin_width, color=\"red\", label=\"zfit backend\")\n",
    "\n",
    "plt.xlabel(\"m [GeV/c$^2$]\")\n",
    "plt.ylabel(\"number of events\")\n",
    "plt.legend()"
   ]
  },
  {
   "cell_type": "markdown",
   "metadata": {
    "pycharm": {
     "name": "#%% md\n"
    }
   },
   "source": [
    "### Discovery test\n",
    "\n",
    "In a discovery test the null hypothesis is the absence of signal, .i.e Nsig = 0."
   ]
  },
  {
   "cell_type": "code",
   "execution_count": null,
   "metadata": {
    "pycharm": {
     "name": "#%%\n"
    },
    "scrolled": true
   },
   "outputs": [],
   "source": [
    "# instantation of the calculator\n",
    "# calculator = AsymptoticCalculator(my_nll, minimizer)"
   ]
  },
  {
   "cell_type": "code",
   "execution_count": null,
   "metadata": {
    "scrolled": true
   },
   "outputs": [],
   "source": [
    "calculator = AsymptoticCalculator(nll, params)\n",
    "pnull, significance = discovery(calculator, \"signal\")\n",
    "significance"
   ]
  },
  {
   "cell_type": "markdown",
   "metadata": {},
   "source": [
    "## Comparison Cells"
   ]
  },
  {
   "cell_type": "code",
   "execution_count": null,
   "metadata": {
    "pycharm": {
     "name": "#%%\n"
    }
   },
   "outputs": [],
   "source": [
    "# parameter of interest of the null hypothesis\n",
    "# my_Nsig = my_nll.get_params()[0]\n",
    "# poinull = POI(my_Nsig, 0)\n",
    "zfit_poinull = POI(Nsig, 0)"
   ]
  },
  {
   "cell_type": "code",
   "execution_count": null,
   "metadata": {},
   "outputs": [],
   "source": [
    "# instantation of the discovery test\n",
    "# discovery_test = Discovery(calculator, poinull)\n",
    "zfit_discovery_test = Discovery(zfit_calculator, zfit_poinull)"
   ]
  },
  {
   "cell_type": "code",
   "execution_count": null,
   "metadata": {
    "pycharm": {
     "name": "#%%\n"
    }
   },
   "outputs": [],
   "source": [
    "# pnull, significance = discovery_test.result()\n",
    "zfit_pnull, zfit_significance = zfit_discovery_test.result()"
   ]
  },
  {
   "cell_type": "code",
   "execution_count": null,
   "metadata": {
    "pycharm": {
     "name": "#%%\n"
    }
   },
   "outputs": [],
   "source": [
    "zfit_significance"
   ]
  },
  {
   "cell_type": "code",
   "execution_count": null,
   "metadata": {},
   "outputs": [],
   "source": []
  }
 ],
 "metadata": {
  "kernelspec": {
   "display_name": "Python 3 (ipykernel)",
   "language": "python",
   "name": "python3"
  },
  "language_info": {
   "codemirror_mode": {
    "name": "ipython",
    "version": 3
   },
   "file_extension": ".py",
   "mimetype": "text/x-python",
   "name": "python",
   "nbconvert_exporter": "python",
   "pygments_lexer": "ipython3",
   "version": "3.12.5"
  }
 },
 "nbformat": 4,
 "nbformat_minor": 4
}
