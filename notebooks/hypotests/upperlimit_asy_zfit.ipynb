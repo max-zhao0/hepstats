{
 "cells": [
  {
   "cell_type": "markdown",
   "metadata": {
    "pycharm": {
     "name": "#%% md\n"
    }
   },
   "source": [
    "# Example of upper limit computation."
   ]
  },
  {
   "cell_type": "code",
   "execution_count": null,
   "metadata": {
    "pycharm": {
     "name": "#%%\n"
    }
   },
   "outputs": [],
   "source": [
    "from __future__ import annotations\n",
    "\n",
    "import matplotlib.pyplot as plt\n",
    "import numpy as np\n",
    "\n",
    "import zfit\n",
    "from zfit.loss import ExtendedUnbinnedNLL\n",
    "from zfit.minimize import Minuit\n",
    "\n",
    "from utils import plotfitresult, plotlimit, pltdist\n",
    "import wrappers as wr\n",
    "\n",
    "import os\n",
    "os.chdir(\"/home/cms-jovyan/hepstats/hepstats/src\")\n",
    "\n",
    "# from hepstats.hypotests import UpperLimit\n",
    "from hepstats.hypotests.calculators import AsymptoticCalculator\n",
    "from hepstats.hypotests.core.functions import upperlimit\n",
    "from hepstats.utils import POI, POIarray\n",
    "# from hepstats.hypotests.parameters import POI, POIarray\n",
    "\n",
    "os.chdir(\"/home/cms-jovyan/hepstats/hepstats/notebooks/hypotests\")\n",
    "print(os.listdir())"
   ]
  },
  {
   "cell_type": "code",
   "execution_count": null,
   "metadata": {
    "pycharm": {
     "name": "#%%\n"
    }
   },
   "outputs": [],
   "source": [
    "plt.rcParams[\"figure.figsize\"] = (9, 8)\n",
    "plt.rcParams[\"font.size\"] = 16"
   ]
  },
  {
   "cell_type": "markdown",
   "metadata": {
    "pycharm": {
     "name": "#%% md\n"
    }
   },
   "source": [
    "### Fit of a Gaussian signal over an exponential background:"
   ]
  },
  {
   "cell_type": "code",
   "execution_count": null,
   "metadata": {
    "pycharm": {
     "name": "#%%\n"
    }
   },
   "outputs": [],
   "source": [
    "bounds = (0.1, 3.0)\n",
    "\n",
    "# Data and signal\n",
    "\n",
    "np.random.seed(0)\n",
    "tau = -2.0\n",
    "beta = -1 / tau\n",
    "data = np.random.exponential(beta, 300)\n",
    "peak = np.random.normal(1.2, 0.1, 10)\n",
    "data = np.concatenate((data, peak))\n",
    "data = data[(data > bounds[0]) & (data < bounds[1])]"
   ]
  },
  {
   "cell_type": "code",
   "execution_count": null,
   "metadata": {
    "pycharm": {
     "name": "#%%\n"
    }
   },
   "outputs": [],
   "source": [
    "pltdist(data, bins=80, bounds=bounds)"
   ]
  },
  {
   "cell_type": "code",
   "execution_count": null,
   "metadata": {
    "pycharm": {
     "name": "#%%\n"
    }
   },
   "outputs": [],
   "source": [
    "obs = zfit.Space(\"x\", limits=bounds)"
   ]
  },
  {
   "cell_type": "code",
   "execution_count": null,
   "metadata": {
    "pycharm": {
     "name": "#%%\n"
    }
   },
   "outputs": [],
   "source": [
    "zfit_lambda = zfit.Parameter(\"lambda\", -2.0, -4.0, -1.0)\n",
    "zfit_Nsig = zfit.Parameter(\"Nsig\", 1.0, -20.0, len(data))\n",
    "zfit_Nbkg = zfit.Parameter(\"Nbkg\", len(data), 0.0, len(data) * 1.1)\n",
    "\n",
    "signal = zfit.pdf.Gauss(obs=obs, mu=1.2, sigma=0.1).create_extended(zfit_Nsig)\n",
    "background = zfit.pdf.Exponential(obs=obs, lambda_=zfit_lambda).create_extended(zfit_Nbkg)\n",
    "tot_model = zfit.pdf.SumPDF([signal, background])"
   ]
  },
  {
   "cell_type": "code",
   "execution_count": null,
   "metadata": {},
   "outputs": [],
   "source": [
    "Nsig = wr.Parameter.from_zfit(zfit_Nsig)\n",
    "Nbkg = wr.Parameter.from_zfit(zfit_Nbkg)\n",
    "lambda_ = wr.Parameter.from_zfit(zfit_lambda)\n",
    "    \n",
    "bkg = wr.Parameter.concat([Nbkg, lambda_], floating=True)\n",
    "\n",
    "params = {\"signal\" : Nsig, \"background\" : bkg}"
   ]
  },
  {
   "cell_type": "code",
   "execution_count": null,
   "metadata": {},
   "outputs": [],
   "source": [
    "unwrap_params = lambda p: {\"Nsig\" : p[\"signal\"], \"Nbkg\" : p[\"background\"][0], \"lambda\" : p[\"background\"][1]}\n",
    "\n",
    "data_dict = {\"M\" : data}\n",
    "models_dict = {\"M\" : wr.ExtendedUnbinnedModel.from_zfit(tot_model, unwrap_params)}\n",
    "data_nll = {\"M\" : wr.ExtendedUnbinnedNLL(models_dict[\"M\"])}\n",
    "constraint_nll = lambda params: 0"
   ]
  },
  {
   "cell_type": "code",
   "execution_count": null,
   "metadata": {
    "pycharm": {
     "name": "#%%\n"
    }
   },
   "outputs": [],
   "source": [
    "# instantation of the calculator\n",
    "calculator = AsymptoticCalculator(\n",
    "    data_nll, constraint_nll, params, data_dict,\n",
    "    models=models_dict, blind=False, beta=10000, unbinned_correction=True\n",
    ")\n",
    "\n",
    "bestfit = calculator.bestfit"
   ]
  },
  {
   "cell_type": "code",
   "execution_count": null,
   "metadata": {},
   "outputs": [],
   "source": [
    "min_values = unwrap_params(bestfit.params)\n",
    "\n",
    "for zfit_param in tot_model.get_params():\n",
    "    zfit_param.set_value(min_values[zfit_param.name])\n",
    "\n",
    "nbins = 80\n",
    "pltdist(data, nbins, bounds)\n",
    "plotfitresult(tot_model, bounds, nbins)\n",
    "\n",
    "plt.xlabel(\"m [GeV/c$^2$]\")\n",
    "plt.ylabel(\"number of events\")\n",
    "plt.legend()"
   ]
  },
  {
   "cell_type": "markdown",
   "metadata": {
    "pycharm": {
     "name": "#%% md\n"
    }
   },
   "source": [
    "### Upper limit:\n",
    "\n",
    "Since the signal yield Nsig = $4.5 \\pm 5.8$  is consistent with zero signal we compute the CLs upper limit at 95% confidence level on Nsig."
   ]
  },
  {
   "cell_type": "code",
   "execution_count": null,
   "metadata": {},
   "outputs": [],
   "source": [
    "poi_range = np.linspace(0, 25, 20)\n",
    "target_idx = 1\n",
    "print(\"poinull_value = {}\".format(poi_range[target_idx]))\n",
    "\n",
    "poinull = POI(\"signal\", poi_range[target_idx])\n",
    "poialt = POI(\"signal\", 0)"
   ]
  },
  {
   "cell_type": "code",
   "execution_count": null,
   "metadata": {},
   "outputs": [],
   "source": [
    "import time\n",
    "\n",
    "start = time.time()\n",
    "prefit_values, postfit_values = calculator.asimov_diagnostics(poinull)\n",
    "end = time.time()\n",
    "\n",
    "print(\"Time elapsed:\", end - start)"
   ]
  },
  {
   "cell_type": "code",
   "execution_count": null,
   "metadata": {},
   "outputs": [],
   "source": [
    "print(prefit_values)\n",
    "print(postfit_values)"
   ]
  },
  {
   "cell_type": "code",
   "execution_count": null,
   "metadata": {},
   "outputs": [],
   "source": [
    "limits, all_pvalues = upperlimit(calculator, \"signal\", (0.0, 25.0), ntests=20)"
   ]
  },
  {
   "cell_type": "code",
   "execution_count": null,
   "metadata": {},
   "outputs": [],
   "source": [
    "limits"
   ]
  },
  {
   "cell_type": "code",
   "execution_count": null,
   "metadata": {},
   "outputs": [],
   "source": [
    "{'observed': 15.676801586444853,\n",
    " 'expected': 11.176252816787928,\n",
    " 'expected_p1': 16.434231523930507,\n",
    " 'expected_m1': 7.694913571569008,\n",
    " 'expected_p2': 23.417250569821093,\n",
    " 'expected_m2': 5.532096420470908}"
   ]
  },
  {
   "cell_type": "code",
   "execution_count": null,
   "metadata": {},
   "outputs": [],
   "source": [
    "all_pvalues"
   ]
  },
  {
   "cell_type": "code",
   "execution_count": null,
   "metadata": {
    "pycharm": {
     "name": "#%%\n"
    }
   },
   "outputs": [],
   "source": [
    "# ul.upperlimit(alpha=0.05, CLs=True);"
   ]
  },
  {
   "cell_type": "code",
   "execution_count": null,
   "metadata": {
    "pycharm": {
     "name": "#%%\n"
    }
   },
   "outputs": [],
   "source": [
    "f = plt.figure(figsize=(9, 8))\n",
    "plotlimit(poi_range, all_pvalues, alpha=0.05, CLs=True)\n",
    "plt.xlabel(\"Nsig\")\n",
    "f.savefig(\"asy_ul.png\")"
   ]
  },
  {
   "cell_type": "code",
   "execution_count": null,
   "metadata": {
    "pycharm": {
     "name": "#%%\n"
    }
   },
   "outputs": [],
   "source": [
    "# f = plt.figure(figsize=(9, 8))\n",
    "# plotlimit(ul, alpha=0.05, CLs=False)"
   ]
  },
  {
   "cell_type": "code",
   "execution_count": null,
   "metadata": {
    "pycharm": {
     "name": "#%%\n"
    }
   },
   "outputs": [],
   "source": []
  }
 ],
 "metadata": {
  "kernelspec": {
   "display_name": "Python 3 (ipykernel)",
   "language": "python",
   "name": "python3"
  },
  "language_info": {
   "codemirror_mode": {
    "name": "ipython",
    "version": 3
   },
   "file_extension": ".py",
   "mimetype": "text/x-python",
   "name": "python",
   "nbconvert_exporter": "python",
   "pygments_lexer": "ipython3",
   "version": "3.12.5"
  }
 },
 "nbformat": 4,
 "nbformat_minor": 4
}
